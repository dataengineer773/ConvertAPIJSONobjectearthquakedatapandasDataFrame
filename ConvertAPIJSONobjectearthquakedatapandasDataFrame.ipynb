{
 "cells": [
  {
   "cell_type": "code",
   "execution_count": 1,
   "id": "50ddcd0b-ee3c-437d-91f4-09d06882cb41",
   "metadata": {},
   "outputs": [],
   "source": [
    "import datetime\n",
    "import pandas as pd\n",
    "import requests"
   ]
  },
  {
   "cell_type": "code",
   "execution_count": 2,
   "id": "60469936-d79c-499e-8c1f-1297365c6117",
   "metadata": {},
   "outputs": [
    {
     "name": "stdout",
     "output_type": "stream",
     "text": [
      "200\n"
     ]
    }
   ],
   "source": [
    "yesterday = datetime.date.today() - datetime.timedelta(days=1)\n",
    "api = 'https://earthquake.usgs.gov/fdsnws/event/1/query'\n",
    "payload = {\n",
    "    'format' : 'geojson',\n",
    "    'starttime' : yesterday - datetime.timedelta(days=26),\n",
    "    'endtime' : yesterday\n",
    "}\n",
    "response = requests.get(api, params=payload)\n",
    "\n",
    "# let's make sure the request was OK\n",
    "print(response.status_code)"
   ]
  },
  {
   "cell_type": "code",
   "execution_count": 3,
   "id": "064e98aa-3400-42d0-bfdd-e086474ff54f",
   "metadata": {},
   "outputs": [],
   "source": [
    "# Response of 200 means OK, so we can pull the data out of the result. \n",
    "#Since we asked the API for a JSON, we can extract it from the response with the JSON method."
   ]
  },
  {
   "cell_type": "code",
   "execution_count": 4,
   "id": "1a8d3dfe-c9d8-4a92-9627-8bcac8c9c433",
   "metadata": {},
   "outputs": [
    {
     "data": {
      "text/plain": [
       "dict_keys(['type', 'metadata', 'features', 'bbox'])"
      ]
     },
     "execution_count": 4,
     "metadata": {},
     "output_type": "execute_result"
    }
   ],
   "source": [
    "# We need to check the structures of the response data to know where our data is.\n",
    "earthquake_json = response.json()\n",
    "earthquake_json.keys()"
   ]
  },
  {
   "cell_type": "code",
   "execution_count": 5,
   "id": "0dafb6ad-a8e9-4295-a805-b3b435c0b8e8",
   "metadata": {},
   "outputs": [
    {
     "data": {
      "text/plain": [
       "{'generated': 1731445796000,\n",
       " 'url': 'https://earthquake.usgs.gov/fdsnws/event/1/query?format=geojson&starttime=2024-10-17&endtime=2024-11-12',\n",
       " 'title': 'USGS Earthquakes',\n",
       " 'status': 200,\n",
       " 'api': '1.14.1',\n",
       " 'count': 6746}"
      ]
     },
     "execution_count": 5,
     "metadata": {},
     "output_type": "execute_result"
    }
   ],
   "source": [
    "earthquake_json['metadata']"
   ]
  },
  {
   "cell_type": "code",
   "execution_count": 6,
   "id": "f4440005-a999-4ce9-acd5-ac1bc1f67638",
   "metadata": {},
   "outputs": [
    {
     "data": {
      "text/plain": [
       "list"
      ]
     },
     "execution_count": 6,
     "metadata": {},
     "output_type": "execute_result"
    }
   ],
   "source": [
    "# Each element in the JSON array features is a row of data for our dataframe.\n",
    "type(earthquake_json['features'])"
   ]
  },
  {
   "cell_type": "code",
   "execution_count": 7,
   "id": "7ce39de8-241e-4617-b54e-7a2f2d35a6f3",
   "metadata": {},
   "outputs": [
    {
     "data": {
      "text/plain": [
       "{'type': 'Feature',\n",
       " 'properties': {'mag': 4.9,\n",
       "  'place': '191 km ESE of Ust’-Kamchatsk Staryy, Russia',\n",
       "  'time': 1731369384328,\n",
       "  'updated': 1731370895040,\n",
       "  'tz': None,\n",
       "  'url': 'https://earthquake.usgs.gov/earthquakes/eventpage/us7000nra5',\n",
       "  'detail': 'https://earthquake.usgs.gov/fdsnws/event/1/query?eventid=us7000nra5&format=geojson',\n",
       "  'felt': None,\n",
       "  'cdi': None,\n",
       "  'mmi': None,\n",
       "  'alert': None,\n",
       "  'status': 'reviewed',\n",
       "  'tsunami': 0,\n",
       "  'sig': 369,\n",
       "  'net': 'us',\n",
       "  'code': '7000nra5',\n",
       "  'ids': ',usauto7000nra5,us7000nra5,',\n",
       "  'sources': ',usauto,us,',\n",
       "  'types': ',internal-moment-tensor,origin,phase-data,',\n",
       "  'nst': 86,\n",
       "  'dmin': 4.818,\n",
       "  'rms': 1.08,\n",
       "  'gap': 100,\n",
       "  'magType': 'mb',\n",
       "  'type': 'earthquake',\n",
       "  'title': 'M 4.9 - 191 km ESE of Ust’-Kamchatsk Staryy, Russia'},\n",
       " 'geometry': {'type': 'Point', 'coordinates': [165.4283, 55.7619, 10]},\n",
       " 'id': 'us7000nra5'}"
      ]
     },
     "execution_count": 7,
     "metadata": {},
     "output_type": "execute_result"
    }
   ],
   "source": [
    "# Your data will be different depending on the date you run this.\n",
    "earthquake_json['features'][0]"
   ]
  },
  {
   "cell_type": "code",
   "execution_count": 8,
   "id": "3615a757-d3cf-4187-9690-10e5ea9fd292",
   "metadata": {},
   "outputs": [
    {
     "data": {
      "text/html": [
       "<div>\n",
       "<style scoped>\n",
       "    .dataframe tbody tr th:only-of-type {\n",
       "        vertical-align: middle;\n",
       "    }\n",
       "\n",
       "    .dataframe tbody tr th {\n",
       "        vertical-align: top;\n",
       "    }\n",
       "\n",
       "    .dataframe thead th {\n",
       "        text-align: right;\n",
       "    }\n",
       "</style>\n",
       "<table border=\"1\" class=\"dataframe\">\n",
       "  <thead>\n",
       "    <tr style=\"text-align: right;\">\n",
       "      <th></th>\n",
       "      <th>mag</th>\n",
       "      <th>place</th>\n",
       "      <th>time</th>\n",
       "      <th>updated</th>\n",
       "      <th>tz</th>\n",
       "      <th>url</th>\n",
       "      <th>detail</th>\n",
       "      <th>felt</th>\n",
       "      <th>cdi</th>\n",
       "      <th>mmi</th>\n",
       "      <th>...</th>\n",
       "      <th>ids</th>\n",
       "      <th>sources</th>\n",
       "      <th>types</th>\n",
       "      <th>nst</th>\n",
       "      <th>dmin</th>\n",
       "      <th>rms</th>\n",
       "      <th>gap</th>\n",
       "      <th>magType</th>\n",
       "      <th>type</th>\n",
       "      <th>title</th>\n",
       "    </tr>\n",
       "  </thead>\n",
       "  <tbody>\n",
       "    <tr>\n",
       "      <th>0</th>\n",
       "      <td>4.90</td>\n",
       "      <td>191 km ESE of Ust’-Kamchatsk Staryy, Russia</td>\n",
       "      <td>1731369384328</td>\n",
       "      <td>1731370895040</td>\n",
       "      <td>None</td>\n",
       "      <td>https://earthquake.usgs.gov/earthquakes/eventp...</td>\n",
       "      <td>https://earthquake.usgs.gov/fdsnws/event/1/que...</td>\n",
       "      <td>NaN</td>\n",
       "      <td>NaN</td>\n",
       "      <td>NaN</td>\n",
       "      <td>...</td>\n",
       "      <td>,usauto7000nra5,us7000nra5,</td>\n",
       "      <td>,usauto,us,</td>\n",
       "      <td>,internal-moment-tensor,origin,phase-data,</td>\n",
       "      <td>86.0</td>\n",
       "      <td>4.818000</td>\n",
       "      <td>1.08</td>\n",
       "      <td>100.0</td>\n",
       "      <td>mb</td>\n",
       "      <td>earthquake</td>\n",
       "      <td>M 4.9 - 191 km ESE of Ust’-Kamchatsk Staryy, R...</td>\n",
       "    </tr>\n",
       "    <tr>\n",
       "      <th>1</th>\n",
       "      <td>0.68</td>\n",
       "      <td>7 km WNW of Cobb, CA</td>\n",
       "      <td>1731367157080</td>\n",
       "      <td>1731368235199</td>\n",
       "      <td>None</td>\n",
       "      <td>https://earthquake.usgs.gov/earthquakes/eventp...</td>\n",
       "      <td>https://earthquake.usgs.gov/fdsnws/event/1/que...</td>\n",
       "      <td>NaN</td>\n",
       "      <td>NaN</td>\n",
       "      <td>NaN</td>\n",
       "      <td>...</td>\n",
       "      <td>,nc75085486,</td>\n",
       "      <td>,nc,</td>\n",
       "      <td>,nearby-cities,origin,phase-data,scitech-link,</td>\n",
       "      <td>8.0</td>\n",
       "      <td>0.007368</td>\n",
       "      <td>0.01</td>\n",
       "      <td>102.0</td>\n",
       "      <td>md</td>\n",
       "      <td>earthquake</td>\n",
       "      <td>M 0.7 - 7 km WNW of Cobb, CA</td>\n",
       "    </tr>\n",
       "    <tr>\n",
       "      <th>2</th>\n",
       "      <td>1.90</td>\n",
       "      <td>20 km W of Point MacKenzie, Alaska</td>\n",
       "      <td>1731366482588</td>\n",
       "      <td>1731366576568</td>\n",
       "      <td>None</td>\n",
       "      <td>https://earthquake.usgs.gov/earthquakes/eventp...</td>\n",
       "      <td>https://earthquake.usgs.gov/fdsnws/event/1/que...</td>\n",
       "      <td>NaN</td>\n",
       "      <td>NaN</td>\n",
       "      <td>NaN</td>\n",
       "      <td>...</td>\n",
       "      <td>,ak024eizkcw2,</td>\n",
       "      <td>,ak,</td>\n",
       "      <td>,origin,phase-data,</td>\n",
       "      <td>NaN</td>\n",
       "      <td>NaN</td>\n",
       "      <td>0.49</td>\n",
       "      <td>NaN</td>\n",
       "      <td>ml</td>\n",
       "      <td>earthquake</td>\n",
       "      <td>M 1.9 - 20 km W of Point MacKenzie, Alaska</td>\n",
       "    </tr>\n",
       "    <tr>\n",
       "      <th>3</th>\n",
       "      <td>2.15</td>\n",
       "      <td>4 km W of Magalia, CA</td>\n",
       "      <td>1731366324690</td>\n",
       "      <td>1731366736015</td>\n",
       "      <td>None</td>\n",
       "      <td>https://earthquake.usgs.gov/earthquakes/eventp...</td>\n",
       "      <td>https://earthquake.usgs.gov/fdsnws/event/1/que...</td>\n",
       "      <td>NaN</td>\n",
       "      <td>NaN</td>\n",
       "      <td>NaN</td>\n",
       "      <td>...</td>\n",
       "      <td>,nc75085476,</td>\n",
       "      <td>,nc,</td>\n",
       "      <td>,nearby-cities,origin,phase-data,scitech-link,</td>\n",
       "      <td>6.0</td>\n",
       "      <td>0.082400</td>\n",
       "      <td>0.02</td>\n",
       "      <td>143.0</td>\n",
       "      <td>md</td>\n",
       "      <td>earthquake</td>\n",
       "      <td>M 2.2 - 4 km W of Magalia, CA</td>\n",
       "    </tr>\n",
       "    <tr>\n",
       "      <th>4</th>\n",
       "      <td>2.00</td>\n",
       "      <td>33 km WNW of Petersville, Alaska</td>\n",
       "      <td>1731365892605</td>\n",
       "      <td>1731366014224</td>\n",
       "      <td>None</td>\n",
       "      <td>https://earthquake.usgs.gov/earthquakes/eventp...</td>\n",
       "      <td>https://earthquake.usgs.gov/fdsnws/event/1/que...</td>\n",
       "      <td>NaN</td>\n",
       "      <td>NaN</td>\n",
       "      <td>NaN</td>\n",
       "      <td>...</td>\n",
       "      <td>,ak024eiz9nv0,</td>\n",
       "      <td>,ak,</td>\n",
       "      <td>,origin,phase-data,</td>\n",
       "      <td>NaN</td>\n",
       "      <td>NaN</td>\n",
       "      <td>0.38</td>\n",
       "      <td>NaN</td>\n",
       "      <td>ml</td>\n",
       "      <td>earthquake</td>\n",
       "      <td>M 2.0 - 33 km WNW of Petersville, Alaska</td>\n",
       "    </tr>\n",
       "  </tbody>\n",
       "</table>\n",
       "<p>5 rows × 26 columns</p>\n",
       "</div>"
      ],
      "text/plain": [
       "    mag                                        place           time  \\\n",
       "0  4.90  191 km ESE of Ust’-Kamchatsk Staryy, Russia  1731369384328   \n",
       "1  0.68                         7 km WNW of Cobb, CA  1731367157080   \n",
       "2  1.90           20 km W of Point MacKenzie, Alaska  1731366482588   \n",
       "3  2.15                        4 km W of Magalia, CA  1731366324690   \n",
       "4  2.00             33 km WNW of Petersville, Alaska  1731365892605   \n",
       "\n",
       "         updated    tz                                                url  \\\n",
       "0  1731370895040  None  https://earthquake.usgs.gov/earthquakes/eventp...   \n",
       "1  1731368235199  None  https://earthquake.usgs.gov/earthquakes/eventp...   \n",
       "2  1731366576568  None  https://earthquake.usgs.gov/earthquakes/eventp...   \n",
       "3  1731366736015  None  https://earthquake.usgs.gov/earthquakes/eventp...   \n",
       "4  1731366014224  None  https://earthquake.usgs.gov/earthquakes/eventp...   \n",
       "\n",
       "                                              detail  felt  cdi  mmi  ...  \\\n",
       "0  https://earthquake.usgs.gov/fdsnws/event/1/que...   NaN  NaN  NaN  ...   \n",
       "1  https://earthquake.usgs.gov/fdsnws/event/1/que...   NaN  NaN  NaN  ...   \n",
       "2  https://earthquake.usgs.gov/fdsnws/event/1/que...   NaN  NaN  NaN  ...   \n",
       "3  https://earthquake.usgs.gov/fdsnws/event/1/que...   NaN  NaN  NaN  ...   \n",
       "4  https://earthquake.usgs.gov/fdsnws/event/1/que...   NaN  NaN  NaN  ...   \n",
       "\n",
       "                           ids      sources  \\\n",
       "0  ,usauto7000nra5,us7000nra5,  ,usauto,us,   \n",
       "1                 ,nc75085486,         ,nc,   \n",
       "2               ,ak024eizkcw2,         ,ak,   \n",
       "3                 ,nc75085476,         ,nc,   \n",
       "4               ,ak024eiz9nv0,         ,ak,   \n",
       "\n",
       "                                            types   nst      dmin   rms  \\\n",
       "0      ,internal-moment-tensor,origin,phase-data,  86.0  4.818000  1.08   \n",
       "1  ,nearby-cities,origin,phase-data,scitech-link,   8.0  0.007368  0.01   \n",
       "2                             ,origin,phase-data,   NaN       NaN  0.49   \n",
       "3  ,nearby-cities,origin,phase-data,scitech-link,   6.0  0.082400  0.02   \n",
       "4                             ,origin,phase-data,   NaN       NaN  0.38   \n",
       "\n",
       "     gap magType        type  \\\n",
       "0  100.0      mb  earthquake   \n",
       "1  102.0      md  earthquake   \n",
       "2    NaN      ml  earthquake   \n",
       "3  143.0      md  earthquake   \n",
       "4    NaN      ml  earthquake   \n",
       "\n",
       "                                               title  \n",
       "0  M 4.9 - 191 km ESE of Ust’-Kamchatsk Staryy, R...  \n",
       "1                       M 0.7 - 7 km WNW of Cobb, CA  \n",
       "2         M 1.9 - 20 km W of Point MacKenzie, Alaska  \n",
       "3                      M 2.2 - 4 km W of Magalia, CA  \n",
       "4           M 2.0 - 33 km WNW of Petersville, Alaska  \n",
       "\n",
       "[5 rows x 26 columns]"
      ]
     },
     "execution_count": 8,
     "metadata": {},
     "output_type": "execute_result"
    }
   ],
   "source": [
    "# Convert to DataFrame\n",
    "earthquake_properties_data = [data['properties'] for data in earthquake_json['features']]\n",
    "df = pd.DataFrame(earthquake_properties_data)\n",
    "df.head()"
   ]
  },
  {
   "cell_type": "code",
   "execution_count": 9,
   "id": "1d0d14bf-e4e0-451e-9b6d-552863e12457",
   "metadata": {},
   "outputs": [],
   "source": [
    "#  Write Data to CSV :\n",
    "pd.DataFrame(earthquake_properties_data).to_csv('earthquakes.csv', index=False)"
   ]
  }
 ],
 "metadata": {
  "kernelspec": {
   "display_name": "Python 3 (ipykernel)",
   "language": "python",
   "name": "python3"
  },
  "language_info": {
   "codemirror_mode": {
    "name": "ipython",
    "version": 3
   },
   "file_extension": ".py",
   "mimetype": "text/x-python",
   "name": "python",
   "nbconvert_exporter": "python",
   "pygments_lexer": "ipython3",
   "version": "3.10.12"
  }
 },
 "nbformat": 4,
 "nbformat_minor": 5
}
